{
 "cells": [
  {
   "cell_type": "code",
   "execution_count": null,
   "id": "19a6757e-278b-4267-bc44-9066f2abf8a2",
   "metadata": {},
   "outputs": [],
   "source": [
    "# Data types and Structures Questions"
   ]
  },
  {
   "cell_type": "code",
   "execution_count": 1,
   "id": "f5f81d43-4e05-4d97-aac7-cfa38f2c5064",
   "metadata": {},
   "outputs": [],
   "source": [
    "# Ques 1- What are data structures, and why are they important?\n",
    "\"\"\"\n",
    "Data structures is the way of organising and storing data so that data can be accessed and manipulated efficiently. some examples of data \n",
    "structures are string, list, tuple, dictionary, etc.\n",
    "Data structures are important because-\n",
    "1. efficient data management- optimise operations like searching, sorting and updating>> faster processing.\n",
    "2. enhanced performance- choosing right data structures will significantly impact the performance of a program.\n",
    "3. memory optimisation- will allocate optimal memory to reduce wastage of memory.\n",
    "4. scalability- will make software to scale up according to increased demands without compromising performance.\n",
    "\"\"\""
   ]
  },
  {
   "cell_type": "code",
   "execution_count": 21,
   "id": "f65785f0-959e-4adf-b367-77ac019d69ba",
   "metadata": {},
   "outputs": [],
   "source": [
    "# Ques 2- Explain the difference between mutable and immutable data types with examples. \n",
    "\"\"\"\n",
    "Mutable data types are the ones that can be changed/altered after its creation. for example>> list,set,etc\n",
    "lis=[1,2,3]\n",
    "lis[0]=5 >> this will change first element in lis from 1 to 5.\n",
    "\n",
    "\n",
    "Immutable data types are the ones that cannot be changed/altered after its creation. for example>> tuples\n",
    "tup=(1,2,3)\n",
    "tup[0]=4   >> this will throw an error as tuples are immutable.\n",
    "\"\"\""
   ]
  },
  {
   "cell_type": "code",
   "execution_count": 3,
   "id": "8addd8ee-4826-49b8-978c-532a8334dc9f",
   "metadata": {},
   "outputs": [],
   "source": [
    "# Ques 3- What are the main differences between lists and tuples in Python?\n",
    "\"\"\"\n",
    "lists >> mutable, consumes more memory than tuples, slightly slower than tuples, more built-in methods due to their mutability.\n",
    "\n",
    "tuples >> immutanle, consumes less memory than lists, faster than lists, less built-in methods as they are immutable.\n",
    "\"\"\""
   ]
  },
  {
   "cell_type": "code",
   "execution_count": 22,
   "id": "4f7393d4-c49f-4a45-9071-ef084303d317",
   "metadata": {},
   "outputs": [],
   "source": [
    "# Ques 4- Describe how dictionaries store data?\n",
    "\"\"\"\n",
    "dictionaries store data in key:value form.\n",
    "key represents the value in the memory. just like index represent the element in case of list.\n",
    "dic={\"name\":\"Padam\"}\n",
    "here name is the key and Padam is the value. \n",
    "Value Padam would be stored inside the memory and the key name would be it reference.\n",
    "\"\"\""
   ]
  },
  {
   "cell_type": "code",
   "execution_count": 5,
   "id": "da56f00a-92d5-4412-a97b-707295959a75",
   "metadata": {},
   "outputs": [],
   "source": [
    "# Ques 5- Why might you use a set instead of a list in Python?\n",
    "\"\"\"\n",
    "sets are used in case you donot want duplicacy. sets are unordered and unique. \n",
    "whereas lists can store duplicate elements.\n",
    "\"\"\""
   ]
  },
  {
   "cell_type": "code",
   "execution_count": 52,
   "id": "bc689219-3199-4298-bf88-97a237a7bf10",
   "metadata": {},
   "outputs": [],
   "source": [
    "# Ques 6- What is a string in Python, and how is it different from a list?\n",
    "\"\"\"\n",
    "In Python, String is an example of data type. It is a sequence of characters enclosed within single or double quotes. >> str=\"Padam\"\n",
    "whereas List is an ordered collection of elements enclosed in square brackets []. >> lis=[1,2,3]\n",
    "Strings are immutable and supports only characters(string data type)\n",
    "list is a collection of a data and hece supports all data types(string, int, float, etc.). lists are mutable.\n",
    "\"\"\""
   ]
  },
  {
   "cell_type": "code",
   "execution_count": 51,
   "id": "41722318-957e-4440-9130-e10b210c2197",
   "metadata": {},
   "outputs": [],
   "source": [
    "# Ques 7- How do tuples emsure data integrity in Python?\n",
    "\"\"\"\n",
    "In Python, tuples are immutable. meaning once created, they cannot be modified. \n",
    "hence, preventing accidental or unauthorised modification ensures data integrity.\n",
    "\"\"\"\n"
   ]
  },
  {
   "cell_type": "code",
   "execution_count": 8,
   "id": "cb990fd3-7a30-488c-8ba8-79ec667756b0",
   "metadata": {},
   "outputs": [],
   "source": [
    "# Ques 8- What is a hash table, and how does it relate to dictionaries in Python?\n",
    "\"\"\"\n",
    "A hash table is a data structure that enables storage and retrieval of key-value pairs. It works by applying a hash function to a key, \n",
    "which computes an index into an array of buckets or slots, from which the desired value can be found. \n",
    "In python, the built-in dict type is implemented using a hash table. Each key-value pair is stored in an array, and python uses a hash function \n",
    "to determine the index for each key. When a collision occurs, python resolves it using open addressing with quadratic probing.\n",
    "Python's dict is an efficient and flexible implementation of hash tables, providing fast access to data through hashing.\n",
    "\"\"\"\n"
   ]
  },
  {
   "cell_type": "code",
   "execution_count": 9,
   "id": "48b54c7a-b4c0-4eef-a03d-f8b30a7beeaa",
   "metadata": {},
   "outputs": [],
   "source": [
    "# Ques 9- Can lists contain different data types in Python?\n",
    "\"\"\"\n",
    "Yes, a list can contain different data types in Python.\n",
    "lis=[\"Padam\", 4,5.3, True]\n",
    "here in the above list 4 different types of data structures are present. >> string, int, float, boolean\n",
    "\"\"\""
   ]
  },
  {
   "cell_type": "code",
   "execution_count": 10,
   "id": "3545f5ce-1ede-4610-a10d-3b9f89fb79c9",
   "metadata": {},
   "outputs": [],
   "source": [
    "# Ques 10- Explain why strings are immutable in Python?\n",
    "\"\"\"\n",
    "In python, strings are immutable, meaning they cannot be modified once created. Any operation that appears to modify a string actually \n",
    "creates a new string object. this provides memory efficiency, security, hashability, etc.\n",
    "\"\"\""
   ]
  },
  {
   "cell_type": "code",
   "execution_count": 11,
   "id": "16b8bbfd-76ae-4154-9b94-e653823c525b",
   "metadata": {},
   "outputs": [],
   "source": [
    "# Ques 11- What advantages do dictinaries offer over lists for certain tasks?\n",
    "\"\"\"\n",
    "dictionaries offer several advantages over list when dealing with task that require efficient data retrieval, structured organisation and flexibility.\n",
    "dictionaries are faster than lists, stores data in key-value pairs, and there cannot be any duplicacy in keys.\n",
    "\"\"\""
   ]
  },
  {
   "cell_type": "code",
   "execution_count": 12,
   "id": "4ed00c50-7e08-481c-ad92-e81295253a21",
   "metadata": {},
   "outputs": [],
   "source": [
    "# Ques 12- Describe a scenario where using a tuple would be preferable over a list.\n",
    "\"\"\"\n",
    "As tuples are immutable, they are best suited for a scenario where data integrity is required. for example storing GPS coordinates. \n",
    "tuples are used in python for its immutability, hashability, memory efficiency and performance.\n",
    "\"\"\""
   ]
  },
  {
   "cell_type": "code",
   "execution_count": 13,
   "id": "5c165221-a7b5-4d24-93ad-3eb2290de9df",
   "metadata": {},
   "outputs": [],
   "source": [
    "# Ques 13- How do sets handle duplicate values in Python?\n",
    "\"\"\"\n",
    "sets handle duplicate values by removing them for elements provided. \n",
    "a={1,2,3,4,5,6,4,3,2,3,4}\n",
    "here in the above example only {1,2,3,4,5,6} will be stored. rest all the duplicate values are automatically removed.\n",
    "\"\"\""
   ]
  },
  {
   "cell_type": "code",
   "execution_count": 14,
   "id": "64c2912a-9519-46e6-a3ff-4ccd750ca3c7",
   "metadata": {},
   "outputs": [],
   "source": [
    "# Ques 14- How does the \"in\" keyword work differently for lists and dictionaries?\n",
    "\"\"\"\n",
    "\"in\" used with list\n",
    "when used with a list, the \"in\" keyword checks whether a specified value exists as an element within the list. \n",
    "this operation involves iterating each item in the list and comparing it to the target value.\n",
    "\n",
    "\n",
    "\n",
    "\"in\" used with dictionaries\n",
    "in dictionaries, the \"in\" keyword checks for the presence of a key, not a value, this operation is optimized due to the dictionary's underlying\n",
    "hash table structure, allowing for faster lookups.\n",
    "\n",
    "\"\"\""
   ]
  },
  {
   "cell_type": "code",
   "execution_count": 15,
   "id": "c47af69a-9999-4798-a164-b4309832dfd5",
   "metadata": {},
   "outputs": [],
   "source": [
    "# Ques 15- Can you modify the elements of a tuple? Explain why or why not?\n",
    "\"\"\"\n",
    "No, because tuples are immutable, once they are created, they can not be modified.\n",
    "tuples are used to store data where data integrity is required.\n",
    "\"\"\" "
   ]
  },
  {
   "cell_type": "code",
   "execution_count": 3,
   "id": "da92d453-bffd-4b31-abf7-84ee93281a7e",
   "metadata": {},
   "outputs": [
    {
     "name": "stdout",
     "output_type": "stream",
     "text": [
      "{'stu001': {'Name': 'Padam', 'age': 31, 'city': 'chandigarh'}, 'stu002': {'Name': 'Rohit', 'age': 30, 'city': 'delhi'}}\n"
     ]
    }
   ],
   "source": [
    "# Ques 16- What is a nested dictionary, and give an example of its use case?\n",
    "\"\"\"\n",
    "nested dictionary is a dictionary where the values themselves are dictionaries. this structure allows you to represent hierarchical or \n",
    "multi-level data in a clear and organized manner.\n",
    "these are used in storing employee information, student information, etc\n",
    "\"\"\"\n",
    "student_data={\"stu001\": {\"Name\":\"Padam\", \"age\":31, \"city\":\"chandigarh\"},\n",
    "              \"stu002\":{\"Name\":\"Rohit\", \"age\": 30, \"city\":\"delhi\"}}\n",
    "print(student_data)\n"
   ]
  },
  {
   "cell_type": "code",
   "execution_count": 17,
   "id": "2cdcd06e-c466-41d0-83f1-1c9c68a12307",
   "metadata": {},
   "outputs": [],
   "source": [
    "# Ques 17- Describe the time complexity of accessing elements in a dictionary.\n",
    "\"\"\"\n",
    "time complexity in dictionary= O(1) on average, due to the hash-based implementation, is a constant time operation. \n",
    "\"in\" keyword is used to check whether key is present or not.\n",
    "O(n) in worst case, in rare situations when many keys hash to the same index i.e., collision, the dictionary may need to search through all the \n",
    "entries at that index.\n",
    "\"\"\""
   ]
  },
  {
   "cell_type": "code",
   "execution_count": 18,
   "id": "517bd325-041d-4fb8-b327-f992f08644af",
   "metadata": {},
   "outputs": [],
   "source": [
    "# Ques 18- In what situations are lists preferred over dictionaries?\n",
    "\"\"\"\n",
    "lists are preffered over dictionaries where user want: index-based access, ordered collection, handling duplicate elements,\n",
    "simple data storage, iterative operations.\n",
    "\"\"\""
   ]
  },
  {
   "cell_type": "code",
   "execution_count": 19,
   "id": "b4bbf026-53eb-4503-aaa9-3a3cc7c7c8ac",
   "metadata": {},
   "outputs": [],
   "source": [
    "# Ques 19- Why are dictionaries considered unordered, and how does that affect data retrival?\n",
    "\"\"\"\n",
    "dictionaries were earlier considered unordered collections. however from python 3.7, dictionaries maintain insertion order.\n",
    "the preservation of insertion order enhances the predictability and consistency of dictionaries, making them more intuitive to use in scenarios \n",
    "where the sequence of items is important.\n",
    "\n",
    "impact on data retrival-\n",
    "->user can expect the items to be processed in the order they were added.\n",
    "->consistency across python implementations\n",
    "-> there is no impact on lookup performance as dictionaries still offer average case O(1) time complexity for lookups, insertions and deletions.\n",
    "\"\"\""
   ]
  },
  {
   "cell_type": "code",
   "execution_count": 5,
   "id": "89e45061-d175-4593-a34e-bf1dd17ce7bd",
   "metadata": {},
   "outputs": [],
   "source": [
    "# Ques 20- Explain the difference between a list and a dictionary in terms of data retrieval.\n",
    "\"\"\"\n",
    "data retrieval for list can be done either by index or by the value. It is faster in case of index O(1). \n",
    "in case of value, for worst case entire list needs to be traversed O(n).\n",
    "data retrival for dictionaries can be done  by keys. keys are unique, hence data retrieval is fast O(1).\n",
    "\"\"\""
   ]
  },
  {
   "cell_type": "code",
   "execution_count": null,
   "id": "80ae75fd-643a-4cb5-bbc1-e9a5a65b72f9",
   "metadata": {},
   "outputs": [],
   "source": []
  },
  {
   "cell_type": "code",
   "execution_count": null,
   "id": "21c8d28d-53f6-4e50-a366-b40aa89b37d6",
   "metadata": {},
   "outputs": [],
   "source": []
  },
  {
   "cell_type": "code",
   "execution_count": null,
   "id": "b715aa9f-7d27-48ea-8ce8-484f82fb39e3",
   "metadata": {},
   "outputs": [],
   "source": []
  },
  {
   "cell_type": "code",
   "execution_count": null,
   "id": "6d884c6c-d821-42ca-87e1-d702c42670c3",
   "metadata": {},
   "outputs": [],
   "source": []
  },
  {
   "cell_type": "code",
   "execution_count": null,
   "id": "ebcd44b6-b320-42f3-8784-5b8ccedaccfd",
   "metadata": {},
   "outputs": [],
   "source": []
  },
  {
   "cell_type": "code",
   "execution_count": 23,
   "id": "8bd132b6-d57c-4f63-8a80-ef7b55ee4a04",
   "metadata": {},
   "outputs": [],
   "source": [
    "# Practical Questions"
   ]
  },
  {
   "cell_type": "code",
   "execution_count": 62,
   "id": "e9517752-a155-4113-964a-be112db5429c",
   "metadata": {},
   "outputs": [
    {
     "name": "stdout",
     "output_type": "stream",
     "text": [
      "<class 'str'>\n",
      "Padam Raj\n"
     ]
    }
   ],
   "source": [
    "# Ques 1- Write a code to create a string with your name and print it.\n",
    "# here data-type of \"name\" is string.\n",
    "name=\"Padam Raj\"\n",
    "print(type(name))\n",
    "print(name)"
   ]
  },
  {
   "cell_type": "code",
   "execution_count": 63,
   "id": "8eff02aa-116d-4b86-9c3c-184e36a82302",
   "metadata": {},
   "outputs": [
    {
     "data": {
      "text/plain": [
       "11"
      ]
     },
     "execution_count": 63,
     "metadata": {},
     "output_type": "execute_result"
    }
   ],
   "source": [
    "# Ques 2- Write a code to find the length of the string \"Hello World\".\n",
    "# length of a string can be determined using len keyword.\n",
    "a=\"Hello World\"\n",
    "len(a)"
   ]
  },
  {
   "cell_type": "code",
   "execution_count": 3,
   "id": "22214474-2a2f-45bc-b197-984be445cdd3",
   "metadata": {},
   "outputs": [
    {
     "name": "stdout",
     "output_type": "stream",
     "text": [
      "Pyt\n"
     ]
    }
   ],
   "source": [
    "# Ques 3- Write a code to slice the first 3 characters from the string \"Python Programming\".\n",
    "string=\"Python Programming\"\n",
    "print(string[:3])"
   ]
  },
  {
   "cell_type": "code",
   "execution_count": 4,
   "id": "175212d1-acef-4225-b914-d4a4382ff656",
   "metadata": {},
   "outputs": [
    {
     "data": {
      "text/plain": [
       "'HELLO'"
      ]
     },
     "execution_count": 4,
     "metadata": {},
     "output_type": "execute_result"
    }
   ],
   "source": [
    "# Ques 4- Write a code to convert the string \"hello\" to uppercase.\n",
    "a=\"hello\"\n",
    "a.upper()"
   ]
  },
  {
   "cell_type": "code",
   "execution_count": 6,
   "id": "f1848908-2fe1-47a8-8239-e49935099810",
   "metadata": {},
   "outputs": [
    {
     "name": "stdout",
     "output_type": "stream",
     "text": [
      "Original text= I like apple\n",
      "Updated text= I like orange\n"
     ]
    }
   ],
   "source": [
    "# Ques 5- Write a code to replace the word \"apple\" with \"orange\" in the string \"I like apple\".\n",
    "string1=\"I like apple\"\n",
    "print(\"Original text=\",string1)\n",
    "print(\"Updated text=\",string1.replace(\"apple\", \"orange\"))"
   ]
  },
  {
   "cell_type": "code",
   "execution_count": 7,
   "id": "fdf88bef-1a64-4d8b-911e-b5d2d63cfea7",
   "metadata": {},
   "outputs": [
    {
     "name": "stdout",
     "output_type": "stream",
     "text": [
      "1 2 3 4 5 "
     ]
    }
   ],
   "source": [
    "# Ques 6- write a code to create a list with numbers 1 to 5 and print it.\n",
    "lis=[1,2,3,4,5]\n",
    "for i in lis:\n",
    "    print(i, end=\" \")"
   ]
  },
  {
   "cell_type": "code",
   "execution_count": 19,
   "id": "b4928168-d3e1-4546-a220-8ebc3c66e807",
   "metadata": {},
   "outputs": [
    {
     "name": "stdout",
     "output_type": "stream",
     "text": [
      "[1, 2, 3, 4, 10]\n"
     ]
    }
   ],
   "source": [
    "# Ques 7- Write a code to append the number 10 to the list [1,2,3,4].\n",
    "lis1=[1,2,3,4]\n",
    "lis1.append(10)\n",
    "print(lis1)"
   ]
  },
  {
   "cell_type": "code",
   "execution_count": 21,
   "id": "4bdcb8db-ff4b-4572-a3e7-6ea212e72052",
   "metadata": {},
   "outputs": [
    {
     "name": "stdout",
     "output_type": "stream",
     "text": [
      "[1, 2, 4, 5]\n"
     ]
    }
   ],
   "source": [
    "# Ques 8- Write a code to remove the number 3 from the list [1,2,3,4,5].\n",
    "lis2=[1,2,3,4,5]\n",
    "lis2.remove(3)\n",
    "print(lis2)"
   ]
  },
  {
   "cell_type": "code",
   "execution_count": 22,
   "id": "a2e6095a-af0d-4598-be89-36be64cf9cda",
   "metadata": {},
   "outputs": [
    {
     "data": {
      "text/plain": [
       "'b'"
      ]
     },
     "execution_count": 22,
     "metadata": {},
     "output_type": "execute_result"
    }
   ],
   "source": [
    "# Ques 9- Write a code to access the second element in the list [\"a\",\"b\",\"c\",\"d\"].\n",
    "# second element has index number>> 1\n",
    "lis3=[\"a\",\"b\",\"c\",\"d\"]\n",
    "lis3[1]\n"
   ]
  },
  {
   "cell_type": "code",
   "execution_count": 23,
   "id": "a19854ec-fc4b-4d69-91ce-cd4fa0d6b071",
   "metadata": {},
   "outputs": [
    {
     "data": {
      "text/plain": [
       "[50, 40, 30, 20, 10]"
      ]
     },
     "execution_count": 23,
     "metadata": {},
     "output_type": "execute_result"
    }
   ],
   "source": [
    "# Ques 10- Write a code to reverse the list [10,20,30,40,50].\n",
    "# slicing can be used to reverse the list with step of -1\n",
    "lis4=[10,20,30,40,50]\n",
    "lis4[::-1]"
   ]
  },
  {
   "cell_type": "code",
   "execution_count": 24,
   "id": "c868c316-b363-4c06-b84e-5a336329db24",
   "metadata": {},
   "outputs": [
    {
     "name": "stdout",
     "output_type": "stream",
     "text": [
      "100 200 300 "
     ]
    }
   ],
   "source": [
    "# Ques 11- Write a code to create a tuple with the elements 100, 200, 300 and print it.\n",
    "tup=(100,200,300)\n",
    "for i in tup:\n",
    "    print(i, end=\" \")"
   ]
  },
  {
   "cell_type": "code",
   "execution_count": 25,
   "id": "e6f5c509-8e80-49f7-bbfe-59fe771a4465",
   "metadata": {},
   "outputs": [
    {
     "data": {
      "text/plain": [
       "'blue'"
      ]
     },
     "execution_count": 25,
     "metadata": {},
     "output_type": "execute_result"
    }
   ],
   "source": [
    "# Ques 12- Write a code to access the second-to-last element of the tuple (\"red\",\"green\",\"blue\",\"yellow\").\n",
    "tup1=(\"red\", \"green\", \"blue\", \"yellow\")\n",
    "tup1[-2]"
   ]
  },
  {
   "cell_type": "code",
   "execution_count": 28,
   "id": "15fdab63-a36b-4b37-88e4-2c978de401f5",
   "metadata": {},
   "outputs": [
    {
     "name": "stdout",
     "output_type": "stream",
     "text": [
      "the minimum number in given tuple is 5\n"
     ]
    }
   ],
   "source": [
    "# Ques 13- Write a code to find the minimum number in the tuple (10,20,5,15).\n",
    "tup2=(10,20,5,15)\n",
    "print(f\"the minimum number in given tuple is {min(tup2)}\")"
   ]
  },
  {
   "cell_type": "code",
   "execution_count": 31,
   "id": "e3b2f19b-add6-43ad-9f63-fa66a95256d3",
   "metadata": {},
   "outputs": [
    {
     "name": "stdout",
     "output_type": "stream",
     "text": [
      " index of \"cat\" in the given tuple is 1\n"
     ]
    }
   ],
   "source": [
    "# Ques 14- Write a code to find the index of the element \"cat\" in the tuple (\"dog\", \"cat\", \"rabbit\").\n",
    "tup3=(\"dog\",\"cat\",\"rabbit\")\n",
    "print(f' index of \"cat\" in the given tuple is {tup3.index(\"cat\")}')"
   ]
  },
  {
   "cell_type": "code",
   "execution_count": 33,
   "id": "93c6d1ac-e9a1-474a-bbea-28b1bb942e94",
   "metadata": {},
   "outputs": [
    {
     "name": "stdout",
     "output_type": "stream",
     "text": [
      "Kiwi is present in the tuple\n"
     ]
    }
   ],
   "source": [
    "# Ques 15- Write a code to create a tuple containing three different fruits and check if \"kiwi\" is in it.\n",
    "tup4=(\"apple\", \"orange\", \"kiwi\")\n",
    "if \"kiwi\" in tup4:\n",
    "    print(\"Kiwi is present in the tuple\")\n",
    "else:\n",
    "    print(\"kiwi is not present in the tuple\")"
   ]
  },
  {
   "cell_type": "code",
   "execution_count": 34,
   "id": "28e86671-bd18-4930-8309-31ca1253a4ca",
   "metadata": {},
   "outputs": [
    {
     "name": "stdout",
     "output_type": "stream",
     "text": [
      "a c b "
     ]
    }
   ],
   "source": [
    "# Ques 16- Write a code to create a set with the elements \"a\", \"b\", \"c\" and print it.\n",
    "set1={\"a\",\"b\",\"c\"}\n",
    "for i in set1:\n",
    "    print(i, end=\" \")"
   ]
  },
  {
   "cell_type": "code",
   "execution_count": 40,
   "id": "09dd79e8-0464-431c-9984-44abd3bd86a5",
   "metadata": {},
   "outputs": [
    {
     "name": "stdout",
     "output_type": "stream",
     "text": [
      "before clearing {1, 2, 3, 4, 5}\n",
      "after clearing set()\n"
     ]
    }
   ],
   "source": [
    "# Ques 17- Write a code to clear all elements from the set{1,2,3,4,5}.\n",
    "set2={1,2,3,4,5}\n",
    "print(f\"before clearing {set2}\")\n",
    "set2.clear()\n",
    "print(f\"after clearing {set2}\")"
   ]
  },
  {
   "cell_type": "code",
   "execution_count": 42,
   "id": "1ef5d2ac-0248-4fd2-b71d-b02352a38966",
   "metadata": {},
   "outputs": [
    {
     "name": "stdout",
     "output_type": "stream",
     "text": [
      "original set {1, 2, 3, 4}\n",
      "after removing 3: {1, 2, 4}\n"
     ]
    }
   ],
   "source": [
    "# Ques 18- Write a code to remove the element 4 from the set{1,2,3,4}.\n",
    "set3={1,2,3,4}\n",
    "print(f\"original set {set3}\")\n",
    "set3.remove(3)\n",
    "print(f\"after removing 3: {set3}\")"
   ]
  },
  {
   "cell_type": "code",
   "execution_count": 45,
   "id": "79ddfc03-6ea5-4a98-9e1c-950e9310c5d0",
   "metadata": {},
   "outputs": [
    {
     "name": "stdout",
     "output_type": "stream",
     "text": [
      "union of these two sets: {1, 2, 3, 4, 5}\n"
     ]
    }
   ],
   "source": [
    "# Ques 19- Write a code to find the union of two sets{1,2,3} and {3,4,5}.\n",
    "set4={1,2,3}\n",
    "set5={3,4,5}\n",
    "print(f\"union of these two sets: {set4|set5}\") "
   ]
  },
  {
   "cell_type": "code",
   "execution_count": 46,
   "id": "de29d469-baed-42eb-82d4-40666de742e6",
   "metadata": {},
   "outputs": [
    {
     "name": "stdout",
     "output_type": "stream",
     "text": [
      "intersection of these two sets are: {2, 3}\n"
     ]
    }
   ],
   "source": [
    "# Ques 20- Write a code to find the intersection of two sets {1,2,3} and {2,3,4}.\n",
    "set6={1,2,3}\n",
    "set7={2,3,4}\n",
    "print(f\"intersection of these two sets are: {set6&set7}\")\n"
   ]
  },
  {
   "cell_type": "code",
   "execution_count": 4,
   "id": "24aee159-ecd7-411f-b241-72de8a2f8eb0",
   "metadata": {},
   "outputs": [
    {
     "name": "stdout",
     "output_type": "stream",
     "text": [
      "Name:Padam Raj\n",
      "Age: 31\n",
      "City: Chandigarh\n"
     ]
    }
   ],
   "source": [
    "# Ques 21- Write a code to create a dictionary with the keys \"name\", \"age\", and \"city\", and print it.\n",
    "dic={\"name\": \"Padam Raj\", \"age\": 31, \"city\":\"Chandigarh\"}\n",
    "print(f\"Name:{dic[\"name\"]}\\nAge: {dic[\"age\"]}\\nCity: {dic[\"city\"]}\")"
   ]
  },
  {
   "cell_type": "code",
   "execution_count": 6,
   "id": "29b84383-3c9a-473a-a2f6-719bf49bbc16",
   "metadata": {},
   "outputs": [
    {
     "name": "stdout",
     "output_type": "stream",
     "text": [
      "before adding: {'name': 'John', 'age': 25}\n",
      "after adding: {'name': 'John', 'age': 25, 'country': 'USA'}\n"
     ]
    }
   ],
   "source": [
    "# Ques 22- Write a code to add a new key-value pair \"country\": \"USA\" to the dictionary{\"name\":\"John\",\"age\": 25}.\n",
    "dic1={\"name\":\"John\",\"age\":25}\n",
    "print(f\"before adding: {dic1}\")\n",
    "dic1[\"country\"]=\"USA\"\n",
    "print(f\"after adding: {dic1}\")"
   ]
  },
  {
   "cell_type": "code",
   "execution_count": 7,
   "id": "625202cc-1ad3-4816-beb9-b37e7709b0bb",
   "metadata": {},
   "outputs": [
    {
     "name": "stdout",
     "output_type": "stream",
     "text": [
      "the value associated with name is Alice\n"
     ]
    }
   ],
   "source": [
    "# Ques 23- Write a code to access the value associated with the key \"name\" in the dictionary {\"name\":\"Alice\", \"age\":30}.\n",
    "dic2={\"name\":\"Alice\", \"age\":30}\n",
    "print(f\"the value associated with name is {dic2[\"name\"]}\")"
   ]
  },
  {
   "cell_type": "code",
   "execution_count": 8,
   "id": "a8fefd99-66df-460c-b074-a96be7955a4a",
   "metadata": {},
   "outputs": [
    {
     "name": "stdout",
     "output_type": "stream",
     "text": [
      "before removing: {'name': 'Bob', 'age': 22, 'city': 'New York'}\n",
      "after removing: {'name': 'Bob', 'city': 'New York'}\n"
     ]
    }
   ],
   "source": [
    "# Ques 24- Write a code to remove the key \"age\" from the dictionary {\"name\":\"Bob\",\"age\":22,\"city\":\"New York\"}.\n",
    "#removing by using del.\n",
    "dic3={\"name\":\"Bob\",\"age\":22,\"city\":\"New York\"}\n",
    "print(f\"before removing: {dic3}\")\n",
    "del dic3[\"age\"]\n",
    "print(f\"after removing: {dic3}\")"
   ]
  },
  {
   "cell_type": "code",
   "execution_count": 9,
   "id": "41b18735-06f4-4be4-8a86-c1febbd8515c",
   "metadata": {},
   "outputs": [
    {
     "name": "stdout",
     "output_type": "stream",
     "text": [
      "before removing:{'name': 'Bob', 'age': 22, 'city': 'New York'}\n",
      "after removing:{'name': 'Bob', 'city': 'New York'}\n"
     ]
    }
   ],
   "source": [
    "#removing by using pop \n",
    "dic3={\"name\":\"Bob\",\"age\":22,\"city\":\"New York\"}\n",
    "print(f\"before removing:{dic3}\")\n",
    "dic3.pop(\"age\")\n",
    "print(f\"after removing:{dic3}\")"
   ]
  },
  {
   "cell_type": "code",
   "execution_count": 22,
   "id": "f6bea894-f2f0-425e-914e-0e7b32e2d1dd",
   "metadata": {},
   "outputs": [
    {
     "name": "stdout",
     "output_type": "stream",
     "text": [
      "city key is present in dictionary\n"
     ]
    }
   ],
   "source": [
    "# Ques 25- Write a code to check if the key \"city\" exists in the dictionary {\"name\":\"Alice\",\"city\":\"Paris\"}.\n",
    "#even if we dont use .keys() in this code, it will work fine.\n",
    "dic4={\"name\":\"Alice\",\"city\":\"Paris\"}\n",
    "a=dic4.keys()\n",
    "if \"city\" in a:\n",
    "    print(\"city key is present in dictionary\")\n",
    "else:\n",
    "    print(\"city key is not present in dictionary\")"
   ]
  },
  {
   "cell_type": "code",
   "execution_count": 24,
   "id": "5f068ca7-b6d9-47c2-99eb-7c502b571fee",
   "metadata": {},
   "outputs": [
    {
     "name": "stdout",
     "output_type": "stream",
     "text": [
      "this is a list:[1, 2, 3]\n",
      "this is a tuple:(4, 5, 6)\n",
      "this is a dictionary:{'name': 'Alice', 'age': 30, 'city': 'Paris'}\n"
     ]
    }
   ],
   "source": [
    "# Ques 26- Write a code to create a list, a tuple, and a dictionary, and print them all.\n",
    "lis=[1,2,3]\n",
    "tup=(4,5,6)\n",
    "dic={\"name\":\"Alice\",\"age\":30,\"city\":\"Paris\"}\n",
    "print(f\"this is a list:{lis}\")\n",
    "print(f\"this is a tuple:{tup}\")\n",
    "print(f\"this is a dictionary:{dic}\")"
   ]
  },
  {
   "cell_type": "code",
   "execution_count": 33,
   "id": "fe9ca87e-3541-4a2c-af59-fdf00ef0ed74",
   "metadata": {},
   "outputs": [
    {
     "name": "stdout",
     "output_type": "stream",
     "text": [
      "selected 5 randoms numbers are:[8, 41, 86, 83, 76]\n",
      "after sorting these numbers in ascending order:[8, 41, 76, 83, 86]\n"
     ]
    }
   ],
   "source": [
    "# Ques 27- Write a code to create a list of 5 random numbers between 1 and 100, sort it in ascending order, and print the result.(replaced)\n",
    "# we can take random numbers manually. but there is a function which will select random numbers within a given range.\n",
    "import random\n",
    "nums=random.sample(range(1,101),5) #this will select 5 non-duplicate random nos. from 1 to 100. 101 is exclusive\n",
    "print(f\"selected 5 randoms numbers are:{nums}\")\n",
    "nums.sort()                        #it will sort the list in ascending order\n",
    "print(f\"after sorting these numbers in ascending order:{nums}\")"
   ]
  },
  {
   "cell_type": "code",
   "execution_count": 36,
   "id": "7ef22016-6cbf-4c3c-9414-ddb51e64475a",
   "metadata": {},
   "outputs": [
    {
     "name": "stdout",
     "output_type": "stream",
     "text": [
      "string at 3rd index is :Padam\n"
     ]
    }
   ],
   "source": [
    "# Ques 28- Write a code to create a list with strings and print the element at the third index.\n",
    "# if the index is 3, then the elements would be 4th in the list. as index starts from 0.\n",
    "lis_str=[\"Ajay\", \"Vijay\", \"Ramesh\", \"Padam\", \"Mahesh\"]\n",
    "print(f\"string at 3rd index is :{lis_str[3]}\")"
   ]
  },
  {
   "cell_type": "code",
   "execution_count": 41,
   "id": "9cd8c823-b5ca-40a0-bac9-3b4607ef42fe",
   "metadata": {},
   "outputs": [
    {
     "name": "stdout",
     "output_type": "stream",
     "text": [
      "before combining:{'name': 'Padam', 'age': 30}\n",
      "after combing:{'name': 'Padam', 'age': 30, 'city': 'Chandigarh'}\n"
     ]
    }
   ],
   "source": [
    "# Ques 29- Write a code to combine two dictionaries into one and print the result.\n",
    "# we can combine two dictionaries by 2 methods>> update() and union\n",
    "# by using update() \n",
    "a={\"name\":\"Padam\", \"age\":30}\n",
    "b={\"city\":\"Chandigarh\"}\n",
    "print(f\"before combining:{a}\")\n",
    "a.update(b)\n",
    "print(f\"after combing:{a}\")"
   ]
  },
  {
   "cell_type": "code",
   "execution_count": 42,
   "id": "27c68c31-a697-4bed-84d6-043dd9ca1a48",
   "metadata": {},
   "outputs": [
    {
     "name": "stdout",
     "output_type": "stream",
     "text": [
      "before combining:{'name': 'Padam', 'age': 30}\n",
      "after combining:{'name': 'Padam', 'age': 30, 'city': 'Chandigarh'}\n"
     ]
    }
   ],
   "source": [
    "#by using union\n",
    "a={\"name\":\"Padam\",\"age\":30}\n",
    "b={\"city\":\"Chandigarh\"}\n",
    "print(f\"before combining:{a}\")\n",
    "print(f\"after combining:{a|b}\")"
   ]
  },
  {
   "cell_type": "code",
   "execution_count": 45,
   "id": "adfd5240-8517-4787-9ca3-393d6ce0bf87",
   "metadata": {},
   "outputs": [
    {
     "name": "stdout",
     "output_type": "stream",
     "text": [
      "this is a list and elements are repeated:['apple', 'banana', 'orange', 'apple', 'lemon', 'orange']\n",
      "after converting into a set, duplicate elements are eliminated:{'lemon', 'orange', 'apple', 'banana'}\n"
     ]
    }
   ],
   "source": [
    "# Ques 30- Write a code to convert a list of strings into a set.\n",
    "lis=[\"apple\",\"banana\",\"orange\",\"apple\",\"lemon\",\"orange\"]\n",
    "print(f\"this is a list and elements are repeated:{lis}\")\n",
    "lis_con=set(lis)\n",
    "print(f\"after converting into a set, duplicate elements are eliminated:{lis_con}\")"
   ]
  },
  {
   "cell_type": "code",
   "execution_count": null,
   "id": "f71f2f0f-8331-4255-9117-d00ec2e1f2a5",
   "metadata": {},
   "outputs": [],
   "source": []
  }
 ],
 "metadata": {
  "kernelspec": {
   "display_name": "Python 3 (ipykernel)",
   "language": "python",
   "name": "python3"
  },
  "language_info": {
   "codemirror_mode": {
    "name": "ipython",
    "version": 3
   },
   "file_extension": ".py",
   "mimetype": "text/x-python",
   "name": "python",
   "nbconvert_exporter": "python",
   "pygments_lexer": "ipython3",
   "version": "3.13.3"
  }
 },
 "nbformat": 4,
 "nbformat_minor": 5
}
